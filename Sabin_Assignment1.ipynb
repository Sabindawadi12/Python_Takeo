{
  "nbformat": 4,
  "nbformat_minor": 0,
  "metadata": {
    "colab": {
      "provenance": [],
      "authorship_tag": "ABX9TyMprhRjuu4z2upjiHpjzkHs",
      "include_colab_link": true
    },
    "kernelspec": {
      "name": "python3",
      "display_name": "Python 3"
    },
    "language_info": {
      "name": "python"
    }
  },
  "cells": [
    {
      "cell_type": "markdown",
      "metadata": {
        "id": "view-in-github",
        "colab_type": "text"
      },
      "source": [
        "<a href=\"https://colab.research.google.com/github/Sabindawadi12/Python_Takeo/blob/main/Sabin_Assignment1.ipynb\" target=\"_parent\"><img src=\"https://colab.research.google.com/assets/colab-badge.svg\" alt=\"Open In Colab\"/></a>"
      ]
    },
    {
      "cell_type": "code",
      "execution_count": null,
      "metadata": {
        "id": "9skcxB3AqqmE"
      },
      "outputs": [],
      "source": [
        "#Assignment 1\n",
        "#Sabin Dawadi\n"
      ]
    },
    {
      "cell_type": "code",
      "source": [
        "# 1. Swap two numbers using third variable\n",
        "\n",
        "a = 11\n",
        "b = 17\n",
        "\n",
        "third = a           #temporarily stores 11\n",
        "a = b               # here, a becomes 17 \n",
        "b = third           # b becomes 11\n",
        "\n",
        "print (\"a =\", a)\n",
        "print (\"b =\", b)\n"
      ],
      "metadata": {
        "colab": {
          "base_uri": "https://localhost:8080/"
        },
        "id": "PgiaOPGHqvU5",
        "outputId": "4a7148a6-2e3d-4267-9a8e-f1100c3d9063"
      },
      "execution_count": null,
      "outputs": [
        {
          "output_type": "stream",
          "name": "stdout",
          "text": [
            "a = 17\n",
            "b = 11\n"
          ]
        }
      ]
    },
    {
      "cell_type": "code",
      "source": [
        "#2. swap two variables without using third variable\n",
        "\n",
        "a = 11\n",
        "b = 17\n",
        "\n",
        "a , b = b , a\n",
        "\n",
        "print(\"a =\", a)\n",
        "print(\"b =\", b)"
      ],
      "metadata": {
        "colab": {
          "base_uri": "https://localhost:8080/"
        },
        "id": "JNC_QcqSsKK3",
        "outputId": "d2255580-081c-442e-e23b-56053782974c"
      },
      "execution_count": null,
      "outputs": [
        {
          "output_type": "stream",
          "name": "stdout",
          "text": [
            "a = 17\n",
            "b = 11\n"
          ]
        }
      ]
    },
    {
      "cell_type": "code",
      "source": [
        "#3. remove duplicate elements from a list without converting to tuple\n",
        "list1 = [1, 2, 3, 12, 1, 5, 1, 6, 7, 7, 7]\n",
        "\n",
        "new_list = []\n",
        "for i in list1:             #takes each value at a iteration\n",
        "    if i not in new_list:   \n",
        "        new_list.append(i)  #stores each value in new list (only if that each value is not in the new list)\n",
        "\n",
        "print(new_list)\n"
      ],
      "metadata": {
        "colab": {
          "base_uri": "https://localhost:8080/"
        },
        "id": "Z3Kxcb-RuGDC",
        "outputId": "5cd18c8b-0863-4e5d-e64c-3073c691ccb3"
      },
      "execution_count": null,
      "outputs": [
        {
          "output_type": "stream",
          "name": "stdout",
          "text": [
            "[1, 2, 3, 12, 5, 6, 7]\n"
          ]
        }
      ]
    },
    {
      "cell_type": "code",
      "source": [
        "#4. write a program to find greatest common divider or highest common factorof given two numbers\n",
        "\n",
        "#a = input(\"enter first number\")\n",
        "#b = input(\"enter second number\")\n",
        "\n",
        "a = 24\n",
        "b = 32\n",
        "factors_a = []\n",
        "for i in range(1, a+1):\n",
        "  if a%i == 0:\n",
        "    factors_a.append(i)\n",
        "print(factors_a) #list of factors of a\n",
        "\n",
        "factors_b = []\n",
        "for j in range(1, b+1):\n",
        "  if b%j == 0:\n",
        "    factors_b.append(j)\n",
        "print(factors_b) #list of factors of b\n",
        "\n",
        "common_factors =[]\n",
        "for k in range(len(factors_a)-1, -1, -1):\n",
        "  for p in range(len(factors_b)-1, -1, -1):\n",
        "    if factors_a[k] == factors_b[p]: #common factors\n",
        "      common_factors.append(factors_a[k])\n",
        "print(\"The HCF is:\", common_factors[0]) #since the loop starts from right to left, the first index in common_factors is the GCD\n"
      ],
      "metadata": {
        "colab": {
          "base_uri": "https://localhost:8080/"
        },
        "id": "VQQsvyX3w1CY",
        "outputId": "f2ce8290-adf3-4941-a79d-a529ba6bdc1d"
      },
      "execution_count": null,
      "outputs": [
        {
          "output_type": "stream",
          "name": "stdout",
          "text": [
            "[1, 2, 3, 4, 6, 8, 12, 24]\n",
            "[1, 2, 4, 8, 16, 32]\n",
            "The HCF is: 8\n"
          ]
        }
      ]
    },
    {
      "cell_type": "code",
      "source": [
        "#5. write a loop to print the following series: 10,20,30,......300\n",
        "\n",
        "n=300/10\n",
        "print(n)\n",
        "for i in range(1, 31):\n",
        "  i = i*10\n",
        "  print(i, end = \" \")"
      ],
      "metadata": {
        "colab": {
          "base_uri": "https://localhost:8080/"
        },
        "id": "3auUfuUe2nyf",
        "outputId": "eaa55684-95b8-4d8f-fd5a-bcf684c9713e"
      },
      "execution_count": null,
      "outputs": [
        {
          "output_type": "stream",
          "name": "stdout",
          "text": [
            "30.0\n",
            "10 20 30 40 50 60 70 80 90 100 110 120 130 140 150 160 170 180 190 200 210 220 230 240 250 260 270 280 290 300 "
          ]
        }
      ]
    },
    {
      "cell_type": "code",
      "source": [
        "#6. Write a loop to print following series: 105, 98, 91, ....,7\n",
        "q = 105/7\n",
        "print(q)\n",
        "\n",
        "ser1 = 112\n",
        "for k in range(1,16):\n",
        "  ser1 = ser1 - 7\n",
        "  print(ser1, end = \" \")"
      ],
      "metadata": {
        "colab": {
          "base_uri": "https://localhost:8080/"
        },
        "id": "14EDS9Kt33w1",
        "outputId": "08da2f3e-8ca2-4db6-89fd-8b39a672b359"
      },
      "execution_count": null,
      "outputs": [
        {
          "output_type": "stream",
          "name": "stdout",
          "text": [
            "15.0\n",
            "105 98 91 84 77 70 63 56 49 42 35 28 21 14 7 "
          ]
        }
      ]
    },
    {
      "cell_type": "code",
      "source": [
        "#7. write a program to print number names of digits\n",
        "\n",
        "dict1 = { \"0\": \"ZERO\",\"1\": \"ONE\", \"2\": \"TWO\",\"3\": \"THREE\",\"4\": \"FOUR\", \"5\": \"FIVE\",\"6\": \"SIX\",\"7\": \"SEVEN\", \"8\": \"EIGHT\", \"9\": \"NINE\",}\n",
        "n = 66734\n",
        "str1 = str(n)\n",
        "output = []\n",
        "\n",
        "for i in str1:\n",
        "  if i in dict1:\n",
        "    output.append(dict1[i])\n",
        "result = ' '.join(output)\n",
        "print(result)\n"
      ],
      "metadata": {
        "colab": {
          "base_uri": "https://localhost:8080/"
        },
        "id": "bPpvm5eQ39yO",
        "outputId": "15e51099-69ed-4abc-e577-559ae2031dd0"
      },
      "execution_count": null,
      "outputs": [
        {
          "output_type": "stream",
          "name": "stdout",
          "text": [
            "SIX SIX SEVEN THREE FOUR\n"
          ]
        }
      ]
    },
    {
      "cell_type": "code",
      "source": [
        "# 7) Write a program to print Fibonacci series till n terms take n =50 \n",
        "def fibonacci(n):\n",
        "    fib = [0, 1] \n",
        "\n",
        "    for i in range(1, n-1):\n",
        "        fib_n = fib[i] + fib[i-1]\n",
        "        fib.append(fib_n)\n",
        "    \n",
        "    return fib\n",
        "\n",
        "n = 50\n",
        "fibonacci_sequence = fibonacci(n)\n",
        "\n",
        "for i in fibonacci_sequence:\n",
        "    print(i, end = ' ')"
      ],
      "metadata": {
        "colab": {
          "base_uri": "https://localhost:8080/"
        },
        "id": "0ndsRkPe4_px",
        "outputId": "18945522-79b6-4049-afca-ae6e6b84bd32"
      },
      "execution_count": null,
      "outputs": [
        {
          "output_type": "stream",
          "name": "stdout",
          "text": [
            "0 1 1 2 3 5 8 13 21 34 55 89 144 233 377 610 987 1597 2584 4181 6765 10946 17711 28657 46368 75025 121393 196418 317811 514229 832040 1346269 2178309 3524578 5702887 9227465 14930352 24157817 39088169 63245986 102334155 165580141 267914296 433494437 701408733 1134903170 1836311903 2971215073 4807526976 7778742049 "
          ]
        }
      ]
    },
    {
      "cell_type": "code",
      "source": [
        "#8) Write a program to print factorial of a number \n",
        "\n",
        "def factoriall(n):\n",
        "    fact = 1\n",
        "    for i in range(1, n + 1):\n",
        "        fact *= i\n",
        "    return fact\n",
        "factoriall(5)"
      ],
      "metadata": {
        "colab": {
          "base_uri": "https://localhost:8080/"
        },
        "id": "FOoP8fGEpxj9",
        "outputId": "a545e426-12c1-416e-ed4a-a1d84cb7cad8"
      },
      "execution_count": null,
      "outputs": [
        {
          "output_type": "execute_result",
          "data": {
            "text/plain": [
              "120"
            ]
          },
          "metadata": {},
          "execution_count": 16
        }
      ]
    },
    {
      "cell_type": "code",
      "source": [
        "#9 Write a program to check if a number is Armstrong or not\n",
        "\n",
        "# couldn't form logic"
      ],
      "metadata": {
        "id": "zUkY7aLj0ge5"
      },
      "execution_count": null,
      "outputs": []
    },
    {
      "cell_type": "code",
      "source": [
        "#10. WAP to convert binary to decimal\n",
        "bin = 100\n",
        "decimal = 0\n",
        "power = 0\n",
        "  \n",
        "for i in reversed(str(bin)):\n",
        "  bit = int(i)\n",
        "  decimal = decimal + bit * (2 ** power)\n",
        "  power = power + 1   \n",
        "print(decimal)\n"
      ],
      "metadata": {
        "colab": {
          "base_uri": "https://localhost:8080/"
        },
        "id": "BtCXSWV61DFk",
        "outputId": "863542fa-f0a7-434d-db98-22e19b7e9053"
      },
      "execution_count": null,
      "outputs": [
        {
          "output_type": "stream",
          "name": "stdout",
          "text": [
            "4\n"
          ]
        }
      ]
    },
    {
      "cell_type": "code",
      "source": [
        "#11. WAP to convert decimal to binary\n",
        "\n",
        "decimal = 4\n",
        "binary = \"\"\n",
        "    \n",
        "if decimal == 0:\n",
        "  binary = \"0\"\n",
        "    \n",
        "while decimal > 0:\n",
        "  binary = str(decimal % 2) + binary\n",
        "  decimal = decimal // 2\n",
        "    \n",
        "print(binary)"
      ],
      "metadata": {
        "colab": {
          "base_uri": "https://localhost:8080/"
        },
        "id": "Msu1qnyr3sLG",
        "outputId": "95da3c13-b14f-4fb8-9278-840a47d20fbd"
      },
      "execution_count": null,
      "outputs": [
        {
          "output_type": "stream",
          "name": "stdout",
          "text": [
            "100\n"
          ]
        }
      ]
    },
    {
      "cell_type": "code",
      "source": [
        "#12. Write a program to check if number is palindrome on not (Without converting to string) \n",
        "#couldn't do"
      ],
      "metadata": {
        "id": "7X3NAO7L4NmS"
      },
      "execution_count": null,
      "outputs": []
    },
    {
      "cell_type": "code",
      "source": [
        "#13) Write a program to print all numbers which are divisible by 13 but not by 3 between 100 and 500 \n",
        "\n",
        "def print_n():\n",
        "    for i in range(100, 501):\n",
        "        if i % 13 == 0 and i % 3 != 0:\n",
        "            print(i)\n",
        "print_n()"
      ],
      "metadata": {
        "colab": {
          "base_uri": "https://localhost:8080/"
        },
        "id": "jxkkHdEB4wOM",
        "outputId": "cce1d800-54e9-473a-adf1-7919a787f89e"
      },
      "execution_count": null,
      "outputs": [
        {
          "output_type": "stream",
          "name": "stdout",
          "text": [
            "104\n",
            "130\n",
            "143\n",
            "169\n",
            "182\n",
            "208\n",
            "221\n",
            "247\n",
            "260\n",
            "286\n",
            "299\n",
            "325\n",
            "338\n",
            "364\n",
            "377\n",
            "403\n",
            "416\n",
            "442\n",
            "455\n",
            "481\n",
            "494\n"
          ]
        }
      ]
    },
    {
      "cell_type": "code",
      "source": [
        "#14. WAP to convert celsius to fahrenheit and vice versa\n",
        "def celsius_to_fahrenheit(celsius):\n",
        "    fahrenheit = (celsius * 9/5) + 32\n",
        "    return fahrenheit\n",
        "\n",
        "def fahrenheit_to_celsius(fahrenheit):\n",
        "    celsius = (fahrenheit - 32) * 5/9\n",
        "    return celsius\n",
        "celsius_to_fahrenheit(36)\n",
        "fahrenheit_to_celsius(60)"
      ],
      "metadata": {
        "colab": {
          "base_uri": "https://localhost:8080/"
        },
        "id": "OBXzMP975UZK",
        "outputId": "85910d04-a42f-411d-8645-e9dfd4189d09"
      },
      "execution_count": null,
      "outputs": [
        {
          "output_type": "execute_result",
          "data": {
            "text/plain": [
              "15.555555555555555"
            ]
          },
          "metadata": {},
          "execution_count": 30
        }
      ]
    },
    {
      "cell_type": "code",
      "source": [
        "#15 15) Write a Python program that takes two digits m (row) and n (column) as input and generates a two-dimensional array. The element value in the i-th row and j-th column of the array should be i*j. else it will be 0 \n",
        "\n",
        "#concept not clear to me\n",
        "\n"
      ],
      "metadata": {
        "id": "7_TCPPMO5k1D"
      },
      "execution_count": null,
      "outputs": []
    },
    {
      "cell_type": "code",
      "source": [
        "#16. Write a Python program that accepts a string and calculates the number of digits and letters. \n",
        "#Sample Data: Python 3.2 \n",
        "#Expected Output:  \n",
        "#Letters 6 \n",
        "#Digits 2\n",
        "\n",
        "string = \"Python 3.2\"\n",
        "\n",
        "digit_count = 0\n",
        "letter_count = 0\n",
        "\n",
        "for i in string:\n",
        "    if i.isdigit():\n",
        "        digit_count += 1\n",
        "    elif i.isalpha():\n",
        "        letter_count += 1\n",
        "\n",
        "print(\"Letters:\", letter_count)\n",
        "print(\"Digits:\", digit_count)"
      ],
      "metadata": {
        "colab": {
          "base_uri": "https://localhost:8080/"
        },
        "id": "1g2iL_3r69Nm",
        "outputId": "e4768154-3cef-4fcd-9e5b-2bfa6c99ce89"
      },
      "execution_count": null,
      "outputs": [
        {
          "output_type": "stream",
          "name": "stdout",
          "text": [
            "Letters: 6\n",
            "Digits: 2\n"
          ]
        }
      ]
    },
    {
      "cell_type": "code",
      "source": [
        "#17. Print all possible combination for a string or a word \n",
        "#Sample input “ABC” \n",
        "#Sample output \n",
        "#BAC \n",
        "#CAB \n",
        "#CBA \n",
        "#ACB \n",
        "#BCA\n",
        "\n",
        "#couldn't do it\n"
      ],
      "metadata": {
        "id": "lSN5q_GC73wB"
      },
      "execution_count": null,
      "outputs": []
    },
    {
      "cell_type": "code",
      "source": [
        "#18 Write a Python program to check if a triangle is equilateral, isosceles or scalene. Take 3 inputs for each side \n",
        "\n",
        "def triangle_type(side1, side2, side3):\n",
        "    if side1 == side2 == side3:\n",
        "        return \"Equilateral\"\n",
        "    elif side1 == side2 or side1 == side3 or side2 == side3:\n",
        "        return \"Isosceles\"\n",
        "    else:\n",
        "        return \"Scalene\"\n",
        "triangle_type(9,9,9)\n",
        "triangle_type(1,2,3)"
      ],
      "metadata": {
        "colab": {
          "base_uri": "https://localhost:8080/",
          "height": 35
        },
        "id": "3BjqS-JF82_l",
        "outputId": "d1140cf9-e007-4ecf-a6b0-bbfacd5f36d2"
      },
      "execution_count": null,
      "outputs": [
        {
          "output_type": "execute_result",
          "data": {
            "text/plain": [
              "'Scalene'"
            ],
            "application/vnd.google.colaboratory.intrinsic+json": {
              "type": "string"
            }
          },
          "metadata": {},
          "execution_count": 33
        }
      ]
    },
    {
      "cell_type": "code",
      "source": [
        "#19). Write a Python program to get the next day of a given date. \n",
        "#Expected Output: \n",
        "#Input a year: 2016                                                       \n",
        "#Input a month [1-12]: 08                                                 \n",
        "#Input a day [1-31]: 23                                                   \n",
        "#The next date is [yyyy-mm-dd] 2016-8-24   \n",
        "\n",
        "#couldn't do\n"
      ],
      "metadata": {
        "id": "TQSBefl98p-U"
      },
      "execution_count": null,
      "outputs": []
    }
  ]
}